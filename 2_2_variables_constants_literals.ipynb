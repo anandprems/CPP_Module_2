{
  "cells": [
    {
      "cell_type": "markdown",
      "id": "a5456b7f",
      "metadata": {
        "id": "a5456b7f"
      },
      "source": [
        "# Variables"
      ]
    },
    {
      "cell_type": "code",
      "execution_count": 12,
      "id": "3b29ed69",
      "metadata": {
        "id": "3b29ed69",
        "outputId": "bf9da0a0-f56b-407e-d5d5-092c3c40577f",
        "colab": {
          "base_uri": "https://localhost:8080/"
        }
      },
      "outputs": [
        {
          "output_type": "execute_result",
          "data": {
            "text/plain": [
              "10"
            ]
          },
          "metadata": {},
          "execution_count": 12
        }
      ],
      "source": [
        "#assigning a value to a varible\n",
        "a = 10\n",
        "a"
      ]
    },
    {
      "cell_type": "code",
      "source": [
        "#any values\n",
        "data = 2.65456\n",
        "print(data)"
      ],
      "metadata": {
        "colab": {
          "base_uri": "https://localhost:8080/"
        },
        "id": "jtQNu2KemQn6",
        "outputId": "81be71dd-1c8a-4d6f-f658-dfc1b157f3db"
      },
      "id": "jtQNu2KemQn6",
      "execution_count": 13,
      "outputs": [
        {
          "output_type": "stream",
          "name": "stdout",
          "text": [
            "2.65456\n"
          ]
        }
      ]
    },
    {
      "cell_type": "code",
      "source": [
        "1name = 'python'\n",
        "print(1name)"
      ],
      "metadata": {
        "colab": {
          "base_uri": "https://localhost:8080/",
          "height": 130
        },
        "id": "yapEjdLLmxJ5",
        "outputId": "666ad24b-5dec-4af3-fcaf-dedb140176a4"
      },
      "id": "yapEjdLLmxJ5",
      "execution_count": 34,
      "outputs": [
        {
          "output_type": "error",
          "ename": "SyntaxError",
          "evalue": "ignored",
          "traceback": [
            "\u001b[0;36m  File \u001b[0;32m\"<ipython-input-34-40fcdf835ec9>\"\u001b[0;36m, line \u001b[0;32m1\u001b[0m\n\u001b[0;31m    1name = 'python'\u001b[0m\n\u001b[0m        ^\u001b[0m\n\u001b[0;31mSyntaxError\u001b[0m\u001b[0;31m:\u001b[0m invalid syntax\n"
          ]
        }
      ]
    },
    {
      "cell_type": "code",
      "source": [
        "name1 ='python'\n",
        "print(name1)"
      ],
      "metadata": {
        "colab": {
          "base_uri": "https://localhost:8080/"
        },
        "id": "us8FXBbGm2g7",
        "outputId": "786f7d89-8cfb-4daf-ab8d-009e2eb9f7b5"
      },
      "id": "us8FXBbGm2g7",
      "execution_count": 35,
      "outputs": [
        {
          "output_type": "stream",
          "name": "stdout",
          "text": [
            "python\n"
          ]
        }
      ]
    },
    {
      "cell_type": "code",
      "source": [
        "True = 1"
      ],
      "metadata": {
        "colab": {
          "base_uri": "https://localhost:8080/",
          "height": 130
        },
        "id": "snasxN8Dm-oN",
        "outputId": "26c753c5-c609-4a58-8353-caa078125d2f"
      },
      "id": "snasxN8Dm-oN",
      "execution_count": 36,
      "outputs": [
        {
          "output_type": "error",
          "ename": "SyntaxError",
          "evalue": "ignored",
          "traceback": [
            "\u001b[0;36m  File \u001b[0;32m\"<ipython-input-36-1598b51f0f76>\"\u001b[0;36m, line \u001b[0;32m1\u001b[0m\n\u001b[0;31m    True = 1\u001b[0m\n\u001b[0m            ^\u001b[0m\n\u001b[0;31mSyntaxError\u001b[0m\u001b[0;31m:\u001b[0m can't assign to keyword\n"
          ]
        }
      ]
    },
    {
      "cell_type": "code",
      "source": [
        "true! = 1"
      ],
      "metadata": {
        "colab": {
          "base_uri": "https://localhost:8080/",
          "height": 130
        },
        "id": "2btH4AHWnIL3",
        "outputId": "e1fc8e67-a03b-4b6f-bc60-c771a8431315"
      },
      "id": "2btH4AHWnIL3",
      "execution_count": 37,
      "outputs": [
        {
          "output_type": "error",
          "ename": "SyntaxError",
          "evalue": "ignored",
          "traceback": [
            "\u001b[0;36m  File \u001b[0;32m\"<ipython-input-37-bf4b63845344>\"\u001b[0;36m, line \u001b[0;32m1\u001b[0m\n\u001b[0;31m    true! = 1\u001b[0m\n\u001b[0m        ^\u001b[0m\n\u001b[0;31mSyntaxError\u001b[0m\u001b[0;31m:\u001b[0m invalid syntax\n"
          ]
        }
      ]
    },
    {
      "cell_type": "code",
      "execution_count": 14,
      "id": "0d472bef",
      "metadata": {
        "id": "0d472bef",
        "outputId": "38defb28-670a-40a8-9566-37b1aeefce0f",
        "colab": {
          "base_uri": "https://localhost:8080/"
        }
      },
      "outputs": [
        {
          "output_type": "execute_result",
          "data": {
            "text/plain": [
              "25"
            ]
          },
          "metadata": {},
          "execution_count": 14
        }
      ],
      "source": [
        "#assigning different values for a same variable\n",
        "a = 25\n",
        "a"
      ]
    },
    {
      "cell_type": "code",
      "source": [
        "#assigning different values for a same variable\n",
        "website ='www.tango-learning.com'\n",
        "print(website)"
      ],
      "metadata": {
        "colab": {
          "base_uri": "https://localhost:8080/"
        },
        "id": "lVOn5HbXlNWa",
        "outputId": "9bfcb556-f6cf-4ce5-fa81-98ebe19b0205"
      },
      "id": "lVOn5HbXlNWa",
      "execution_count": 15,
      "outputs": [
        {
          "output_type": "stream",
          "name": "stdout",
          "text": [
            "www.tango-learning.com\n"
          ]
        }
      ]
    },
    {
      "cell_type": "code",
      "source": [
        "#assigning different values for a same variable\n",
        "website = 'www.google.com'\n",
        "print(website)"
      ],
      "metadata": {
        "colab": {
          "base_uri": "https://localhost:8080/"
        },
        "id": "FjqQCFIhlYq2",
        "outputId": "25700ff4-707e-46cc-b194-131713f724ca"
      },
      "id": "FjqQCFIhlYq2",
      "execution_count": 16,
      "outputs": [
        {
          "output_type": "stream",
          "name": "stdout",
          "text": [
            "www.google.com\n"
          ]
        }
      ]
    },
    {
      "cell_type": "code",
      "source": [
        "#Assigning multiple values to multiple variables\n",
        "firstname, secondname, subject = 'prem','anand','python'\n",
        "print(firstname)\n",
        "print(secondname)\n",
        "print(subject)"
      ],
      "metadata": {
        "colab": {
          "base_uri": "https://localhost:8080/"
        },
        "id": "r5rwlT3ilyYR",
        "outputId": "e19a246c-e923-45b2-8450-1075d10db710"
      },
      "id": "r5rwlT3ilyYR",
      "execution_count": 17,
      "outputs": [
        {
          "output_type": "stream",
          "name": "stdout",
          "text": [
            "prem\n",
            "anand\n",
            "python\n"
          ]
        }
      ]
    },
    {
      "cell_type": "code",
      "execution_count": 18,
      "id": "11375cd9",
      "metadata": {
        "id": "11375cd9",
        "outputId": "ee4e532e-af03-43ef-e13a-d540ed496fc0",
        "colab": {
          "base_uri": "https://localhost:8080/"
        }
      },
      "outputs": [
        {
          "output_type": "execute_result",
          "data": {
            "text/plain": [
              "int"
            ]
          },
          "metadata": {},
          "execution_count": 18
        }
      ],
      "source": [
        "type(a)"
      ]
    },
    {
      "cell_type": "code",
      "source": [
        "type(data)"
      ],
      "metadata": {
        "colab": {
          "base_uri": "https://localhost:8080/"
        },
        "id": "6tZPopnhma4h",
        "outputId": "1b290d18-6b04-4d77-bfd3-61d613378dfe"
      },
      "id": "6tZPopnhma4h",
      "execution_count": 19,
      "outputs": [
        {
          "output_type": "execute_result",
          "data": {
            "text/plain": [
              "float"
            ]
          },
          "metadata": {},
          "execution_count": 19
        }
      ]
    },
    {
      "cell_type": "code",
      "execution_count": 20,
      "id": "0d3ddd67",
      "metadata": {
        "id": "0d3ddd67",
        "outputId": "a26ad9ce-e542-4e27-939c-2ddc52096b2a",
        "colab": {
          "base_uri": "https://localhost:8080/"
        }
      },
      "outputs": [
        {
          "output_type": "execute_result",
          "data": {
            "text/plain": [
              "25.6"
            ]
          },
          "metadata": {},
          "execution_count": 20
        }
      ],
      "source": [
        "#example for replacing the values,\n",
        "num = 10\n",
        "num = 25.6\n",
        "num"
      ]
    },
    {
      "cell_type": "code",
      "source": [
        "type(website)"
      ],
      "metadata": {
        "colab": {
          "base_uri": "https://localhost:8080/"
        },
        "id": "neAewiKbmc3m",
        "outputId": "0906e798-5ece-4fdc-c601-579f78ee7d53"
      },
      "id": "neAewiKbmc3m",
      "execution_count": 21,
      "outputs": [
        {
          "output_type": "execute_result",
          "data": {
            "text/plain": [
              "str"
            ]
          },
          "metadata": {},
          "execution_count": 21
        }
      ]
    },
    {
      "cell_type": "code",
      "execution_count": 22,
      "id": "7ed8df89",
      "metadata": {
        "id": "7ed8df89",
        "outputId": "e4dd9c78-f0a5-4719-86b2-1ee6916b7651",
        "colab": {
          "base_uri": "https://localhost:8080/"
        }
      },
      "outputs": [
        {
          "output_type": "execute_result",
          "data": {
            "text/plain": [
              "float"
            ]
          },
          "metadata": {},
          "execution_count": 22
        }
      ],
      "source": [
        "type(num)"
      ]
    },
    {
      "cell_type": "code",
      "execution_count": 23,
      "id": "358930e7",
      "metadata": {
        "id": "358930e7",
        "outputId": "ec1337a2-f95c-43f6-c2ba-e2dcd54d9ec9",
        "colab": {
          "base_uri": "https://localhost:8080/",
          "height": 36
        }
      },
      "outputs": [
        {
          "output_type": "execute_result",
          "data": {
            "text/plain": [
              "'Premanand'"
            ],
            "application/vnd.google.colaboratory.intrinsic+json": {
              "type": "string"
            }
          },
          "metadata": {},
          "execution_count": 23
        }
      ],
      "source": [
        "#decalaring and assignment \n",
        "your_name = \"Premanand\"\n",
        "your_name"
      ]
    },
    {
      "cell_type": "code",
      "execution_count": 24,
      "id": "0710110c",
      "metadata": {
        "id": "0710110c",
        "outputId": "ed295648-c49f-4b0e-9d97-65726f2c86d5",
        "colab": {
          "base_uri": "https://localhost:8080/"
        }
      },
      "outputs": [
        {
          "output_type": "execute_result",
          "data": {
            "text/plain": [
              "str"
            ]
          },
          "metadata": {},
          "execution_count": 24
        }
      ],
      "source": [
        "value = '10@'\n",
        "value\n",
        "type(value)"
      ]
    },
    {
      "cell_type": "code",
      "execution_count": 25,
      "id": "36e06f2d",
      "metadata": {
        "id": "36e06f2d",
        "outputId": "746b3f5a-fcc1-47cb-d6a6-c29c64c79469",
        "colab": {
          "base_uri": "https://localhost:8080/"
        }
      },
      "outputs": [
        {
          "output_type": "execute_result",
          "data": {
            "text/plain": [
              "(5, 10.2, (5+2j), 'welcome')"
            ]
          },
          "metadata": {},
          "execution_count": 25
        }
      ],
      "source": [
        "#assigning multiple values to multiple variables\n",
        "a, b, c, d = 5, 10.2, 5+2j, 'welcome'\n",
        "a,b,c,d"
      ]
    },
    {
      "cell_type": "code",
      "execution_count": 26,
      "id": "188ac613",
      "metadata": {
        "id": "188ac613",
        "outputId": "313eb1b6-2af2-4f8a-b554-b1519cba5ece",
        "colab": {
          "base_uri": "https://localhost:8080/"
        }
      },
      "outputs": [
        {
          "output_type": "execute_result",
          "data": {
            "text/plain": [
              "('2022', '2022', '2022')"
            ]
          },
          "metadata": {},
          "execution_count": 26
        }
      ],
      "source": [
        "#assigning multiple variables to same value\n",
        "e = f = g = '2022'\n",
        "e,f,g"
      ]
    },
    {
      "cell_type": "markdown",
      "id": "ec1e9338",
      "metadata": {
        "id": "ec1e9338"
      },
      "source": [
        "# Constants"
      ]
    },
    {
      "cell_type": "code",
      "execution_count": 27,
      "id": "dc9f1cb2",
      "metadata": {
        "id": "dc9f1cb2"
      },
      "outputs": [],
      "source": [
        "#for importing constant values\n",
        "import math"
      ]
    },
    {
      "cell_type": "code",
      "execution_count": 28,
      "id": "352b1e4e",
      "metadata": {
        "id": "352b1e4e",
        "outputId": "6692275c-0a85-4b69-f05f-44ffcdf11ea3",
        "colab": {
          "base_uri": "https://localhost:8080/"
        }
      },
      "outputs": [
        {
          "output_type": "stream",
          "name": "stdout",
          "text": [
            "3.141592653589793\n"
          ]
        }
      ],
      "source": [
        "#printing pi value from math library\n",
        "print(math.pi)"
      ]
    },
    {
      "cell_type": "code",
      "execution_count": 29,
      "id": "95056c3a",
      "metadata": {
        "id": "95056c3a",
        "outputId": "be139d71-e39a-4b72-8eae-2ca2f0caa2ea",
        "colab": {
          "base_uri": "https://localhost:8080/"
        }
      },
      "outputs": [
        {
          "output_type": "stream",
          "name": "stdout",
          "text": [
            "2.718281828459045\n"
          ]
        }
      ],
      "source": [
        "#print eulers constant\n",
        "print(math.e)"
      ]
    },
    {
      "cell_type": "code",
      "execution_count": 30,
      "id": "2aea3835",
      "metadata": {
        "id": "2aea3835"
      },
      "outputs": [],
      "source": [
        "def pi_val():\n",
        "    PI = 3.141592653589793"
      ]
    },
    {
      "cell_type": "markdown",
      "id": "1a91d039",
      "metadata": {
        "id": "1a91d039"
      },
      "source": [
        "# Literals"
      ]
    },
    {
      "cell_type": "code",
      "execution_count": 31,
      "id": "53238e49",
      "metadata": {
        "id": "53238e49",
        "outputId": "9ba205d5-0551-440c-bad7-8d6bc92d3c99",
        "colab": {
          "base_uri": "https://localhost:8080/"
        }
      },
      "outputs": [
        {
          "output_type": "stream",
          "name": "stdout",
          "text": [
            "8 100 200 300\n",
            "10.5 150.0\n",
            "3.14j 3.14 0.0\n"
          ]
        }
      ],
      "source": [
        "a = 0b1000 #Binary Literals\n",
        "b = 100 #Decimal Literal \n",
        "c = 0o310 #Octal Literal\n",
        "d = 0x12c #Hexadecimal Literal\n",
        "\n",
        "#Float Literal\n",
        "float_1 = 10.5 \n",
        "float_2 = 1.5e2 #1.5*10^2\n",
        "\n",
        "#Complex Literal \n",
        "x = 3.14j #real and imaginary no\n",
        "\n",
        "print(a, b, c, d)\n",
        "print(float_1, float_2)\n",
        "print(x, x.imag, x.real)\n"
      ]
    },
    {
      "cell_type": "code",
      "execution_count": 38,
      "id": "31a3119a",
      "metadata": {
        "id": "31a3119a",
        "outputId": "f6f87ec2-8a33-4222-f1d9-06e2d1d96f9e",
        "colab": {
          "base_uri": "https://localhost:8080/"
        }
      },
      "outputs": [
        {
          "output_type": "stream",
          "name": "stdout",
          "text": [
            "happy python learning\n",
            "A\n",
            "This is a multiline string with more than one line code.\n",
            "Ünicöde\n",
            "raw \\n string\n"
          ]
        }
      ],
      "source": [
        "strings = \"happy python learning\"\n",
        "char = \"A\"\n",
        "multiline_str = \"\"\"This is a multiline string with more than one line code.\"\"\"\n",
        "unicode = u\"\\u00dcnic\\u00f6de\"\n",
        "raw_str = r\"raw \\n string\"\n",
        "\n",
        "print(strings)\n",
        "print(char)\n",
        "print(multiline_str)\n",
        "print(unicode)\n",
        "print(raw_str)\n"
      ]
    },
    {
      "cell_type": "code",
      "execution_count": 39,
      "id": "f479942f",
      "metadata": {
        "id": "f479942f",
        "outputId": "2e984cef-0742-4b73-ce75-6cdb55eac5f4",
        "colab": {
          "base_uri": "https://localhost:8080/",
          "height": 130
        }
      },
      "outputs": [
        {
          "output_type": "error",
          "ename": "SyntaxError",
          "evalue": "ignored",
          "traceback": [
            "\u001b[0;36m  File \u001b[0;32m\"<ipython-input-39-a4adb535b7c2>\"\u001b[0;36m, line \u001b[0;32m1\u001b[0m\n\u001b[0;31m    a = happy new year 2022\u001b[0m\n\u001b[0m                ^\u001b[0m\n\u001b[0;31mSyntaxError\u001b[0m\u001b[0;31m:\u001b[0m invalid syntax\n"
          ]
        }
      ],
      "source": [
        "a = happy new year 2022\n",
        "a"
      ]
    },
    {
      "cell_type": "code",
      "execution_count": 40,
      "id": "7caa0d40",
      "metadata": {
        "id": "7caa0d40",
        "colab": {
          "base_uri": "https://localhost:8080/"
        },
        "outputId": "0b57a085-fb44-44d5-f4bf-b7f36466fbbc"
      },
      "outputs": [
        {
          "output_type": "stream",
          "name": "stdout",
          "text": [
            "x is True\n",
            "y is False\n",
            "a: 5\n",
            "b: 10\n"
          ]
        }
      ],
      "source": [
        "#Boolean\n",
        "x = (1 == True)\n",
        "y = (1 == False)\n",
        "a = True + 4\n",
        "b = False + 10\n",
        "\n",
        "print(\"x is\", x)\n",
        "print(\"y is\", y)\n",
        "print(\"a:\", a)\n",
        "print(\"b:\", b)"
      ]
    },
    {
      "cell_type": "code",
      "source": [
        "#special literals\n",
        "drink = \"Available\"\n",
        "food = None\n",
        "\n",
        "def menu(x):\n",
        "    if x == drink:\n",
        "        print(drink)\n",
        "    else:\n",
        "        print(food)\n",
        "\n",
        "menu(drink)\n",
        "menu(food)"
      ],
      "metadata": {
        "colab": {
          "base_uri": "https://localhost:8080/"
        },
        "id": "WOykkB9hoaWg",
        "outputId": "fcf4a2ef-6a8e-4b40-8ab5-f30a7558454e"
      },
      "id": "WOykkB9hoaWg",
      "execution_count": 41,
      "outputs": [
        {
          "output_type": "stream",
          "name": "stdout",
          "text": [
            "Available\n",
            "None\n"
          ]
        }
      ]
    },
    {
      "cell_type": "code",
      "source": [
        "#literal collection - special\n",
        "fruits = [\"apple\", \"mango\", \"orange\"] #list\n",
        "numbers = (1, 2, 3) #tuple\n",
        "alphabets = {'a':'apple', 'b':'ball', 'c':'cat'} #dictionary\n",
        "vowels = {'a', 'e', 'i' , 'o', 'u'} #set\n",
        "\n",
        "print(fruits)\n",
        "print(numbers)\n",
        "print(alphabets)\n",
        "print(vowels)"
      ],
      "metadata": {
        "colab": {
          "base_uri": "https://localhost:8080/"
        },
        "id": "ddBrjQbQoz-8",
        "outputId": "81f9854b-2abe-4e91-ef72-b14423c53203"
      },
      "id": "ddBrjQbQoz-8",
      "execution_count": 42,
      "outputs": [
        {
          "output_type": "stream",
          "name": "stdout",
          "text": [
            "['apple', 'mango', 'orange']\n",
            "(1, 2, 3)\n",
            "{'a': 'apple', 'b': 'ball', 'c': 'cat'}\n",
            "{'o', 'e', 'i', 'u', 'a'}\n"
          ]
        }
      ]
    },
    {
      "cell_type": "code",
      "source": [
        "print(type(fruits))\n",
        "print(type(numbers))\n",
        "print(type(alphabets))\n",
        "print(type(vowels))"
      ],
      "metadata": {
        "colab": {
          "base_uri": "https://localhost:8080/"
        },
        "id": "3JvffxGgo-cw",
        "outputId": "9b272148-5337-4fdf-b8e3-c85ccb142553"
      },
      "id": "3JvffxGgo-cw",
      "execution_count": 43,
      "outputs": [
        {
          "output_type": "stream",
          "name": "stdout",
          "text": [
            "<class 'list'>\n",
            "<class 'tuple'>\n",
            "<class 'dict'>\n",
            "<class 'set'>\n"
          ]
        }
      ]
    },
    {
      "cell_type": "code",
      "source": [],
      "metadata": {
        "id": "kz3CPDk4pIam"
      },
      "id": "kz3CPDk4pIam",
      "execution_count": null,
      "outputs": []
    }
  ],
  "metadata": {
    "kernelspec": {
      "display_name": "Python 3 (ipykernel)",
      "language": "python",
      "name": "python3"
    },
    "language_info": {
      "codemirror_mode": {
        "name": "ipython",
        "version": 3
      },
      "file_extension": ".py",
      "mimetype": "text/x-python",
      "name": "python",
      "nbconvert_exporter": "python",
      "pygments_lexer": "ipython3",
      "version": "3.9.7"
    },
    "colab": {
      "provenance": []
    }
  },
  "nbformat": 4,
  "nbformat_minor": 5
}