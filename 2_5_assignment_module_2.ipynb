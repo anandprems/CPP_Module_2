{
  "nbformat": 4,
  "nbformat_minor": 0,
  "metadata": {
    "colab": {
      "provenance": []
    },
    "kernelspec": {
      "name": "python3",
      "display_name": "Python 3"
    },
    "language_info": {
      "name": "python"
    }
  },
  "cells": [
    {
      "cell_type": "code",
      "execution_count": 2,
      "metadata": {
        "colab": {
          "base_uri": "https://localhost:8080/"
        },
        "id": "AOvvCFtDXJw-",
        "outputId": "6866ef44-ca5a-45fd-e0c8-be79264b6316"
      },
      "outputs": [
        {
          "output_type": "stream",
          "name": "stdout",
          "text": [
            "What is your current age?18\n",
            "you have 29930 days, 4264 weeks, 984 months, 82 years remaining!\n"
          ]
        }
      ],
      "source": [
        "age = input('What is your current age?')\n",
        "\n",
        "age_as_int = int(age)\n",
        "\n",
        "years_remaining = 100 - age_as_int\n",
        "days_remaining = years_remaining * 365\n",
        "weeks_remaining = years_remaining * 52\n",
        "months_remaining = years_remaining * 12\n",
        "\n",
        "print(f\"you have {days_remaining} days, {weeks_remaining} weeks, {months_remaining} months, {years_remaining} years remaining!\")"
      ]
    },
    {
      "cell_type": "code",
      "source": [
        "print(\"Python\")\n",
        "print(\"is easy to learn\")\n",
        "print('', end= '')\n",
        "print('')\n",
        "print('Python is easy to learn')"
      ],
      "metadata": {
        "colab": {
          "base_uri": "https://localhost:8080/"
        },
        "id": "DdQdboD1Yept",
        "outputId": "2e11b87a-8841-4dce-a3c3-2c88c8114c26"
      },
      "execution_count": 3,
      "outputs": [
        {
          "output_type": "stream",
          "name": "stdout",
          "text": [
            "Python\n",
            "is easy to learn\n",
            "\n",
            "Python is easy to learn\n"
          ]
        }
      ]
    }
  ]
}