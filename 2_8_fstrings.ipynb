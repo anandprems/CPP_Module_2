{
  "nbformat": 4,
  "nbformat_minor": 0,
  "metadata": {
    "colab": {
      "provenance": []
    },
    "kernelspec": {
      "name": "python3",
      "display_name": "Python 3"
    },
    "language_info": {
      "name": "python"
    }
  },
  "cells": [
    {
      "cell_type": "code",
      "execution_count": 10,
      "metadata": {
        "id": "4FS6s-ou2uJI"
      },
      "outputs": [],
      "source": [
        "name = 'Premanand'\n",
        "subject1 = 'Python'\n",
        "subject2 = 'Digital Signal Processing'\n",
        "domain = 'Bio-Signal Processing'\n",
        "experience = 11\n",
        "technology1 = 'Machine Learning'\n",
        "technology2 = 'Deep Learning'"
      ]
    },
    {
      "cell_type": "code",
      "source": [
        "print(f\"Hello all!.My name is {name}. I am having experience of around {experience} years in teaching and research.My favourite subject is {subject1} & {subject2} and my reserach domain is {domain}, in which i am working in {technology1} and {technology2} technology!\") "
      ],
      "metadata": {
        "colab": {
          "base_uri": "https://localhost:8080/"
        },
        "id": "cfQlOfmz29jQ",
        "outputId": "12c94952-e538-4f67-aae2-f6f5ebe7c9c9"
      },
      "execution_count": 11,
      "outputs": [
        {
          "output_type": "stream",
          "name": "stdout",
          "text": [
            "Hello all!.My name is Premanand. I am having experience of around 11 years in teaching and research.My favourite subject is Python & Digital Signal Processing and my reserach domain is Bio-Signal Processing, in which i am working in Machine Learning and Deep Learning technology!\n"
          ]
        }
      ]
    },
    {
      "cell_type": "code",
      "source": [],
      "metadata": {
        "id": "gyYddrib3XTM"
      },
      "execution_count": null,
      "outputs": []
    }
  ]
}