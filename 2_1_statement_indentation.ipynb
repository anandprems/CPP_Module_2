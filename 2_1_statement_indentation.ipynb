{
  "cells": [
    {
      "cell_type": "code",
      "source": [
        "print('hello world!')"
      ],
      "metadata": {
        "colab": {
          "base_uri": "https://localhost:8080/"
        },
        "id": "BAW53rbFZqiJ",
        "outputId": "cca29727-1df5-431a-d0dd-4a46ad5b314a"
      },
      "id": "BAW53rbFZqiJ",
      "execution_count": 1,
      "outputs": [
        {
          "output_type": "stream",
          "name": "stdout",
          "text": [
            "hello world!\n"
          ]
        }
      ]
    },
    {
      "cell_type": "code",
      "source": [
        "print(\"hello world!\")"
      ],
      "metadata": {
        "colab": {
          "base_uri": "https://localhost:8080/"
        },
        "id": "ne9TrFjfZu3L",
        "outputId": "95c13534-6bd6-4f74-e2f9-76f7d753f670"
      },
      "id": "ne9TrFjfZu3L",
      "execution_count": 2,
      "outputs": [
        {
          "output_type": "stream",
          "name": "stdout",
          "text": [
            "hello world!\n"
          ]
        }
      ]
    },
    {
      "cell_type": "markdown",
      "source": [
        "#Statement"
      ],
      "metadata": {
        "id": "jBYSDkPlkinR"
      },
      "id": "jBYSDkPlkinR"
    },
    {
      "cell_type": "code",
      "execution_count": 3,
      "id": "909807a4",
      "metadata": {
        "id": "909807a4",
        "outputId": "eac002a2-194a-4e7c-b19e-9dbc51bd8187",
        "colab": {
          "base_uri": "https://localhost:8080/"
        }
      },
      "outputs": [
        {
          "output_type": "execute_result",
          "data": {
            "text/plain": [
              "5.3"
            ]
          },
          "metadata": {},
          "execution_count": 3
        }
      ],
      "source": [
        "a = 5.3\n",
        "a"
      ]
    },
    {
      "cell_type": "code",
      "source": [
        "num1 = 10\n",
        "num2 = 20\n",
        "sum = 10 + 20\n",
        "print('sum')"
      ],
      "metadata": {
        "colab": {
          "base_uri": "https://localhost:8080/"
        },
        "id": "cukYvvRvklL8",
        "outputId": "d4896619-0403-4dbd-d801-4d4d5c11c8a3"
      },
      "id": "cukYvvRvklL8",
      "execution_count": 11,
      "outputs": [
        {
          "output_type": "stream",
          "name": "stdout",
          "text": [
            "sum\n"
          ]
        }
      ]
    },
    {
      "cell_type": "code",
      "execution_count": 4,
      "id": "2aa6e314",
      "metadata": {
        "id": "2aa6e314",
        "outputId": "87d4fd2a-703e-496c-8a85-7649c850a77a",
        "colab": {
          "base_uri": "https://localhost:8080/"
        }
      },
      "outputs": [
        {
          "output_type": "execute_result",
          "data": {
            "text/plain": [
              "(5, 10, 15)"
            ]
          },
          "metadata": {},
          "execution_count": 4
        }
      ],
      "source": [
        "#multiple assignemnt in sinlge line\n",
        "a=5; b=10; c=15\n",
        "a,b,c"
      ]
    },
    {
      "cell_type": "code",
      "execution_count": 5,
      "id": "a89ed660",
      "metadata": {
        "id": "a89ed660",
        "outputId": "158eb141-019f-4bb0-f87a-49ed4d1c3b6f",
        "colab": {
          "base_uri": "https://localhost:8080/"
        }
      },
      "outputs": [
        {
          "output_type": "execute_result",
          "data": {
            "text/plain": [
              "45"
            ]
          },
          "metadata": {},
          "execution_count": 5
        }
      ],
      "source": [
        "#multiline statement\n",
        "a = 1 + 2 + 3 + \\\n",
        "    4 + 5 + 6 + \\\n",
        "    7 + 8 + 9\n",
        "a"
      ]
    },
    {
      "cell_type": "code",
      "execution_count": 6,
      "id": "74594c2e",
      "metadata": {
        "id": "74594c2e",
        "outputId": "1646260b-0e70-47c9-ae87-138c24a696c7",
        "colab": {
          "base_uri": "https://localhost:8080/"
        }
      },
      "outputs": [
        {
          "output_type": "execute_result",
          "data": {
            "text/plain": [
              "('happy', 'new', 'year', '2022')"
            ]
          },
          "metadata": {},
          "execution_count": 6
        }
      ],
      "source": [
        "#multiline \n",
        "greetings = ('happy', 'new', 'year','2022')\n",
        "greetings"
      ]
    },
    {
      "cell_type": "markdown",
      "source": [
        "#indentation"
      ],
      "metadata": {
        "id": "Otpr0egrk6UU"
      },
      "id": "Otpr0egrk6UU"
    },
    {
      "cell_type": "code",
      "execution_count": 7,
      "id": "1acd914a",
      "metadata": {
        "id": "1acd914a",
        "outputId": "4be41261-3f84-4eb5-dcda-c2b2484e60af",
        "colab": {
          "base_uri": "https://localhost:8080/",
          "height": 130
        }
      },
      "outputs": [
        {
          "output_type": "error",
          "ename": "IndentationError",
          "evalue": "ignored",
          "traceback": [
            "\u001b[0;36m  File \u001b[0;32m\"<ipython-input-7-bb3d70276b94>\"\u001b[0;36m, line \u001b[0;32m12\u001b[0m\n\u001b[0;31m    sum = sum+val\u001b[0m\n\u001b[0m      ^\u001b[0m\n\u001b[0;31mIndentationError\u001b[0m\u001b[0;31m:\u001b[0m expected an indented block\n"
          ]
        }
      ],
      "source": [
        "#statements and indentation\n",
        "# Program to find the sum of all numbers stored in a list\n",
        "\n",
        "# List of numbers\n",
        "numbers = [1,2,3,4,5,6,7,8,9,10]\n",
        "\n",
        "# variable to store the sum\n",
        "sum = 0\n",
        "\n",
        "# iterate over the list\n",
        "for val in numbers:\n",
        "sum = sum+val\n",
        "\n",
        "print(\"The sum is\", sum)"
      ]
    },
    {
      "cell_type": "code",
      "execution_count": 8,
      "id": "ee650746",
      "metadata": {
        "id": "ee650746",
        "outputId": "cc6aa47e-dbee-4834-84f8-43cd01b48cd4",
        "colab": {
          "base_uri": "https://localhost:8080/"
        }
      },
      "outputs": [
        {
          "output_type": "stream",
          "name": "stdout",
          "text": [
            "The sum is 55\n"
          ]
        }
      ],
      "source": [
        "#statements and indentation\n",
        "# Program to find the sum of all numbers stored in a list\n",
        "\n",
        "# List of numbers\n",
        "numbers = [1,2,3,4,5,6,7,8,9,10]\n",
        "\n",
        "# variable to store the sum\n",
        "sum = 0\n",
        "\n",
        "# iterate over the list\n",
        "for val in numbers:\n",
        "    sum = sum+val\n",
        "\n",
        "print(\"The sum is\", sum)\n"
      ]
    },
    {
      "cell_type": "code",
      "execution_count": 9,
      "id": "834e4ba6",
      "metadata": {
        "id": "834e4ba6",
        "outputId": "ba365606-46e1-4030-8514-899f461f1c09",
        "colab": {
          "base_uri": "https://localhost:8080/"
        }
      },
      "outputs": [
        {
          "output_type": "stream",
          "name": "stdout",
          "text": [
            "This is always printed.\n"
          ]
        }
      ],
      "source": [
        "# If the number is positive, we print an appropriate message\n",
        "\n",
        "num = -1\n",
        "if num > 0:\n",
        "    print(num, \"is a positive number.\")\n",
        "print(\"This is always printed.\")\n"
      ]
    },
    {
      "cell_type": "code",
      "execution_count": 10,
      "id": "7a9f2944",
      "metadata": {
        "id": "7a9f2944",
        "outputId": "96db041f-7dc7-4cd1-ce0e-ee81fa26e547",
        "colab": {
          "base_uri": "https://localhost:8080/"
        }
      },
      "outputs": [
        {
          "output_type": "stream",
          "name": "stdout",
          "text": [
            "3 is a positive number.\n",
            "This is also always printed.\n"
          ]
        }
      ],
      "source": [
        "num = 3\n",
        "if num > 0:\n",
        "    print(num, \"is a positive number.\")\n",
        "print(\"This is also always printed.\")"
      ]
    }
  ],
  "metadata": {
    "kernelspec": {
      "display_name": "Python 3 (ipykernel)",
      "language": "python",
      "name": "python3"
    },
    "language_info": {
      "codemirror_mode": {
        "name": "ipython",
        "version": 3
      },
      "file_extension": ".py",
      "mimetype": "text/x-python",
      "name": "python",
      "nbconvert_exporter": "python",
      "pygments_lexer": "ipython3",
      "version": "3.9.7"
    },
    "colab": {
      "provenance": []
    }
  },
  "nbformat": 4,
  "nbformat_minor": 5
}