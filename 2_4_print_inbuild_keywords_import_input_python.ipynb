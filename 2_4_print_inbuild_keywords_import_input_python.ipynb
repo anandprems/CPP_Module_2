{
  "nbformat": 4,
  "nbformat_minor": 0,
  "metadata": {
    "colab": {
      "provenance": []
    },
    "kernelspec": {
      "name": "python3",
      "display_name": "Python 3"
    },
    "language_info": {
      "name": "python"
    }
  },
  "cells": [
    {
      "cell_type": "markdown",
      "source": [
        "#Print"
      ],
      "metadata": {
        "id": "2HCCoehcidMr"
      }
    },
    {
      "cell_type": "code",
      "source": [
        "#assigning string to a variable\n",
        "data = 'I am learning Python programming language!'\n",
        "\n",
        "# print the string message\n",
        "print(data)"
      ],
      "metadata": {
        "colab": {
          "base_uri": "https://localhost:8080/"
        },
        "id": "55zsAMZbiidH",
        "outputId": "53bcafdf-e41e-4ad5-dd18-50b87cd72da6"
      },
      "execution_count": null,
      "outputs": [
        {
          "output_type": "stream",
          "name": "stdout",
          "text": [
            "I am learning Python programming language!\n"
          ]
        }
      ]
    },
    {
      "cell_type": "code",
      "source": [
        "data1 = 'Hi hello world!'\n",
        "data2 = 'I am Premanand'\n",
        "\n",
        "#printing two statements\n",
        "print(data1, data2)"
      ],
      "metadata": {
        "colab": {
          "base_uri": "https://localhost:8080/"
        },
        "id": "CzHnh17lnX1-",
        "outputId": "e73feedd-8770-42b3-c7aa-6db465c0b0d9"
      },
      "execution_count": null,
      "outputs": [
        {
          "output_type": "stream",
          "name": "stdout",
          "text": [
            "Hi hello world! I am Premanand\n"
          ]
        }
      ]
    },
    {
      "cell_type": "code",
      "source": [
        "#concatenation in another way\n",
        "#printing two statements\n",
        "print(data1 + data2)"
      ],
      "metadata": {
        "colab": {
          "base_uri": "https://localhost:8080/"
        },
        "id": "gcp4Xu6an82G",
        "outputId": "72e3dfdb-3a6c-46f4-b606-8762c319f08e"
      },
      "execution_count": null,
      "outputs": [
        {
          "output_type": "stream",
          "name": "stdout",
          "text": [
            "Hi hello world!I am Premanand\n"
          ]
        }
      ]
    },
    {
      "cell_type": "code",
      "source": [
        "#concatenation in another way\n",
        "#printing two statements\n",
        "print('Hi hello world!'+ data2)"
      ],
      "metadata": {
        "colab": {
          "base_uri": "https://localhost:8080/"
        },
        "id": "85683i5boFJ-",
        "outputId": "65fcf4a8-3744-42d7-8316-e549ae92fff4"
      },
      "execution_count": null,
      "outputs": [
        {
          "output_type": "stream",
          "name": "stdout",
          "text": [
            "Hi hello world!I am Premanand\n"
          ]
        }
      ]
    },
    {
      "cell_type": "code",
      "source": [
        "#concatenation in another way\n",
        "#printing two statements\n",
        "print('Hi hello world!'+ data2 + data3)"
      ],
      "metadata": {
        "colab": {
          "base_uri": "https://localhost:8080/",
          "height": 200
        },
        "id": "EmD9rV5PoOUW",
        "outputId": "2c8c58f5-57a2-4771-fef6-7c90e8038b71"
      },
      "execution_count": null,
      "outputs": [
        {
          "output_type": "error",
          "ename": "NameError",
          "evalue": "ignored",
          "traceback": [
            "\u001b[0;31m---------------------------------------------------------------------------\u001b[0m",
            "\u001b[0;31mNameError\u001b[0m                                 Traceback (most recent call last)",
            "\u001b[0;32m<ipython-input-5-eaa0c8155ae4>\u001b[0m in \u001b[0;36m<module>\u001b[0;34m\u001b[0m\n\u001b[1;32m      1\u001b[0m \u001b[0;31m#concatenation in another way\u001b[0m\u001b[0;34m\u001b[0m\u001b[0;34m\u001b[0m\u001b[0;34m\u001b[0m\u001b[0m\n\u001b[1;32m      2\u001b[0m \u001b[0;31m#printing two statements\u001b[0m\u001b[0;34m\u001b[0m\u001b[0;34m\u001b[0m\u001b[0;34m\u001b[0m\u001b[0m\n\u001b[0;32m----> 3\u001b[0;31m \u001b[0mprint\u001b[0m\u001b[0;34m(\u001b[0m\u001b[0;34m'Hi hello world!'\u001b[0m\u001b[0;34m+\u001b[0m \u001b[0mdata2\u001b[0m \u001b[0;34m+\u001b[0m \u001b[0mdata3\u001b[0m\u001b[0;34m)\u001b[0m\u001b[0;34m\u001b[0m\u001b[0;34m\u001b[0m\u001b[0m\n\u001b[0m",
            "\u001b[0;31mNameError\u001b[0m: name 'data3' is not defined"
          ]
        }
      ]
    },
    {
      "cell_type": "code",
      "source": [
        "#concatenation in another way\n",
        "#printing two statements\n",
        "print('Hi hello world!'+ data2 + str('data3'))"
      ],
      "metadata": {
        "colab": {
          "base_uri": "https://localhost:8080/"
        },
        "id": "Iw_vYOyBoVg8",
        "outputId": "424e6405-4faa-44ea-8cb8-544559652739"
      },
      "execution_count": null,
      "outputs": [
        {
          "output_type": "stream",
          "name": "stdout",
          "text": [
            "Hi hello world!I am Premananddata3\n"
          ]
        }
      ]
    },
    {
      "cell_type": "code",
      "source": [
        "#printing partial segments\n",
        "\n",
        "data2 = 'I am Premanand'\n",
        "\n",
        "print('Hi hello world!', data2)"
      ],
      "metadata": {
        "colab": {
          "base_uri": "https://localhost:8080/"
        },
        "id": "H8mley6snslI",
        "outputId": "2e8e26f0-9294-415c-8f03-8c730ad7ff39"
      },
      "execution_count": null,
      "outputs": [
        {
          "output_type": "stream",
          "name": "stdout",
          "text": [
            "Hi hello world! I am Premanand\n"
          ]
        }
      ]
    },
    {
      "cell_type": "code",
      "source": [
        "#assigning values to variable\n",
        "num = 34\n",
        "\n",
        "#printing the number\n",
        "print('My age is', num)"
      ],
      "metadata": {
        "colab": {
          "base_uri": "https://localhost:8080/"
        },
        "id": "pcmBMjorjArx",
        "outputId": "b25ddc82-8923-43b8-d837-90500710f7b0"
      },
      "execution_count": null,
      "outputs": [
        {
          "output_type": "stream",
          "name": "stdout",
          "text": [
            "My age is 34\n"
          ]
        }
      ]
    },
    {
      "cell_type": "code",
      "source": [
        "#Assigning values\n",
        "num = 34\n",
        "age = num\n",
        "\n",
        "#printing the assigned num\n",
        "print('num', num, 'age', age)"
      ],
      "metadata": {
        "colab": {
          "base_uri": "https://localhost:8080/"
        },
        "id": "O-sx0-ABjTuo",
        "outputId": "3f756212-78e7-4502-b4c0-ac6f61016c3b"
      },
      "execution_count": null,
      "outputs": [
        {
          "output_type": "stream",
          "name": "stdout",
          "text": [
            "num 34 age 34\n"
          ]
        }
      ]
    },
    {
      "cell_type": "code",
      "source": [
        "#f-strings concept\n",
        "name = 'Premanand'\n",
        "print(f\"hello world i am {name}\")"
      ],
      "metadata": {
        "colab": {
          "base_uri": "https://localhost:8080/"
        },
        "id": "0emldtcYmr3t",
        "outputId": "e185e3a9-c014-4ffa-a7d3-69a96b9ba6ef"
      },
      "execution_count": null,
      "outputs": [
        {
          "output_type": "stream",
          "name": "stdout",
          "text": [
            "hello world i am Premanand\n"
          ]
        }
      ]
    },
    {
      "cell_type": "code",
      "source": [
        "#with separator\n",
        "data1 = 'Hi hello world!'\n",
        "data2 = 'I am Premanand'\n",
        "\n",
        "#printing two statements\n",
        "print(data1, data2, sep='***')"
      ],
      "metadata": {
        "colab": {
          "base_uri": "https://localhost:8080/"
        },
        "id": "MOJdDj_NqQAK",
        "outputId": "8504101a-d724-4f1e-b488-0c1b134d4c4d"
      },
      "execution_count": null,
      "outputs": [
        {
          "output_type": "stream",
          "name": "stdout",
          "text": [
            "Hi hello world!***I am Premanand\n"
          ]
        }
      ]
    },
    {
      "cell_type": "code",
      "source": [
        "#with separator another way\n",
        "data1 = 'Hi hello world!'\n",
        "\n",
        "#printing two statements by removing space\n",
        "print(data1, 'Premanand', sep='')\n",
        "\n",
        "print(data1, 'Premanand')"
      ],
      "metadata": {
        "colab": {
          "base_uri": "https://localhost:8080/"
        },
        "id": "urgk4gEfs4Wu",
        "outputId": "d4b51f8a-7c80-441b-9bef-41ea97b2b574"
      },
      "execution_count": null,
      "outputs": [
        {
          "output_type": "stream",
          "name": "stdout",
          "text": [
            "Hi hello world!Premanand\n",
            "Hi hello world! Premanand\n"
          ]
        }
      ]
    },
    {
      "cell_type": "code",
      "source": [
        "data1 = 'Hi hello world!'\n",
        "data2 = 'I am Premanand'\n",
        "\n",
        "#printing two statements\n",
        "print(data1)\n",
        "print(data2)\n",
        "\n",
        "print('--------------------')\n",
        "print(data1, end='')\n",
        "print(data2)\n",
        "\n",
        "print('--------------------')\n",
        "print(data1, end='&')\n",
        "print(data2)"
      ],
      "metadata": {
        "colab": {
          "base_uri": "https://localhost:8080/"
        },
        "id": "eMj16hmZtRoy",
        "outputId": "bf9501e5-1821-4601-c180-229257936fdf"
      },
      "execution_count": null,
      "outputs": [
        {
          "output_type": "stream",
          "name": "stdout",
          "text": [
            "Hi hello world!\n",
            "I am Premanand\n",
            "--------------------\n",
            "Hi hello world!I am Premanand\n",
            "--------------------\n",
            "Hi hello world!&I am Premanand\n"
          ]
        }
      ]
    },
    {
      "cell_type": "code",
      "source": [
        "data1 = 'Hi hello world!'\n",
        "data2 = 'I am Premanand'\n",
        "\n",
        "#printing two statements with space\n",
        "print(data1)\n",
        "print(data2)\n",
        "print('------------------')\n",
        "print(data1)\n",
        "print('\\n')\n",
        "print(data2)\n",
        "print('------------------')\n",
        "print(data1)\n",
        "print(4*'\\n')\n",
        "print(data2)"
      ],
      "metadata": {
        "colab": {
          "base_uri": "https://localhost:8080/"
        },
        "id": "NJN8HedZvOnS",
        "outputId": "2d4cbe96-c739-43ec-c0f0-171c5755217a"
      },
      "execution_count": null,
      "outputs": [
        {
          "output_type": "stream",
          "name": "stdout",
          "text": [
            "Hi hello world!\n",
            "I am Premanand\n",
            "------------------\n",
            "Hi hello world!\n",
            "\n",
            "\n",
            "I am Premanand\n",
            "------------------\n",
            "Hi hello world!\n",
            "\n",
            "\n",
            "\n",
            "\n",
            "\n",
            "I am Premanand\n"
          ]
        }
      ]
    },
    {
      "cell_type": "code",
      "source": [
        "# we can do for all other data types\n",
        "print(31) #integer\n",
        "print(20.7) #float\n",
        "print(20j) #complex\n",
        "print([12,45,98,78]) #list\n",
        "print((1,2,3,4,5,6,7)) #tuple\n",
        "print({\"name\":'Premanand', \"interest\":'Data science'}) #dictionary\n",
        "print(False) #boolean\n",
        "print({'I','love','print','function','!'})"
      ],
      "metadata": {
        "colab": {
          "base_uri": "https://localhost:8080/"
        },
        "id": "aFjL-Qnbo3eG",
        "outputId": "e89a956f-0707-4355-bc7b-13ea03dc3f27"
      },
      "execution_count": null,
      "outputs": [
        {
          "output_type": "stream",
          "name": "stdout",
          "text": [
            "31\n",
            "20.7\n",
            "20j\n",
            "[12, 45, 98, 78]\n",
            "(1, 2, 3, 4, 5, 6, 7)\n",
            "{'name': 'Premanand', 'interest': 'Data science'}\n",
            "False\n",
            "{'!', 'function', 'love', 'I', 'print'}\n"
          ]
        }
      ]
    },
    {
      "cell_type": "code",
      "source": [
        "print(None)"
      ],
      "metadata": {
        "colab": {
          "base_uri": "https://localhost:8080/"
        },
        "id": "O4dwJKNqv58n",
        "outputId": "668874ff-eac2-40c8-ad9c-fc981a5f3f32"
      },
      "execution_count": null,
      "outputs": [
        {
          "output_type": "stream",
          "name": "stdout",
          "text": [
            "None\n"
          ]
        }
      ]
    },
    {
      "cell_type": "code",
      "source": [
        "import datetime\n",
        "time_now = datetime.datetime.now()\n",
        "print('Current time is',time_now)"
      ],
      "metadata": {
        "colab": {
          "base_uri": "https://localhost:8080/"
        },
        "id": "wMKG25ffvwMi",
        "outputId": "d8cf2324-de8d-4d00-cdc9-636c34631366"
      },
      "execution_count": null,
      "outputs": [
        {
          "output_type": "stream",
          "name": "stdout",
          "text": [
            "Current time is 2022-08-31 00:12:06.288294\n"
          ]
        }
      ]
    },
    {
      "cell_type": "code",
      "source": [
        "with open('file.txt', 'w') as f:\n",
        "    print('Just now writing in this file! \\n Hope it will print in the text file.', file=f)"
      ],
      "metadata": {
        "id": "RMmsLbEct2wZ"
      },
      "execution_count": null,
      "outputs": []
    },
    {
      "cell_type": "markdown",
      "source": [
        "#input"
      ],
      "metadata": {
        "id": "DTYOmMn0sfth"
      }
    },
    {
      "cell_type": "code",
      "source": [
        "#getting input from user\n",
        "name_ = input('What is your name?')"
      ],
      "metadata": {
        "id": "nOipwR3WshJr",
        "colab": {
          "base_uri": "https://localhost:8080/"
        },
        "outputId": "da5f90ce-c989-4f78-c61b-c7ed9422da76"
      },
      "execution_count": null,
      "outputs": [
        {
          "name": "stdout",
          "output_type": "stream",
          "text": [
            "What is your name?Premanand S\n"
          ]
        }
      ]
    },
    {
      "cell_type": "code",
      "source": [
        "print('What is your name?', input())"
      ],
      "metadata": {
        "id": "C8Dc5gA3PoTI",
        "colab": {
          "base_uri": "https://localhost:8080/"
        },
        "outputId": "5676c6f1-5401-4843-8403-f6fce69044f8"
      },
      "execution_count": null,
      "outputs": [
        {
          "output_type": "stream",
          "name": "stdout",
          "text": [
            "Premanand \n",
            "What is your name? Premanand \n"
          ]
        }
      ]
    },
    {
      "cell_type": "code",
      "source": [
        "data1 = input('Whats your favourite programming language?')\n",
        "data2 = input('Whats your fav technology in AI?')\n",
        "\n",
        "print(f\" my favourite programming language is {data1} and i love to work in {data2} technology\")"
      ],
      "metadata": {
        "colab": {
          "base_uri": "https://localhost:8080/"
        },
        "id": "PpV5h_DaD6GU",
        "outputId": "908dc1b8-0363-45a1-8b93-b55a2df8ae11"
      },
      "execution_count": null,
      "outputs": [
        {
          "output_type": "stream",
          "name": "stdout",
          "text": [
            "Whats your favourite programming language?Python\n",
            "Whats your fav technology in AI?Machine Learning\n",
            " my favourite programming language is Python and i love to work in Machine Learning technology\n"
          ]
        }
      ]
    },
    {
      "cell_type": "code",
      "source": [
        "num1 = int(input('first number:'))\n",
        "num2 = int(input('second number:'))\n",
        "num3 = int(input('third number:'))\n",
        "\n",
        "mathematics_ = (num1 + num2)*num3\n",
        "\n",
        "print('The final output value is {}'.format(mathematics_))"
      ],
      "metadata": {
        "colab": {
          "base_uri": "https://localhost:8080/"
        },
        "id": "bDAKXo3DGDRf",
        "outputId": "c73dc5f5-1fed-420a-d946-61818c9ba536"
      },
      "execution_count": null,
      "outputs": [
        {
          "output_type": "stream",
          "name": "stdout",
          "text": [
            "first number:25\n",
            "second number:56\n",
            "third number:24\n",
            "The final output value is 1944\n"
          ]
        }
      ]
    },
    {
      "cell_type": "markdown",
      "source": [
        "#import"
      ],
      "metadata": {
        "id": "fIP7LCIiHPPt"
      }
    },
    {
      "cell_type": "code",
      "source": [
        "import math\n",
        "e_ = math.e\n",
        "print(\"The value of eulers number is : \",e_)"
      ],
      "metadata": {
        "id": "d_dDfj4wIF2k",
        "colab": {
          "base_uri": "https://localhost:8080/"
        },
        "outputId": "dc63afe7-e68a-4f16-edd9-f101a519ca2c"
      },
      "execution_count": null,
      "outputs": [
        {
          "output_type": "stream",
          "name": "stdout",
          "text": [
            "The value of eulers number is :  2.718281828459045\n"
          ]
        }
      ]
    },
    {
      "cell_type": "code",
      "source": [
        "from math import pi\n",
        "print('Mathematical value pi =',pi)"
      ],
      "metadata": {
        "colab": {
          "base_uri": "https://localhost:8080/"
        },
        "id": "Awlvns2_5elT",
        "outputId": "9c03da2f-ea2f-48fb-a4d3-5e1d6de2957f"
      },
      "execution_count": null,
      "outputs": [
        {
          "output_type": "stream",
          "name": "stdout",
          "text": [
            "Mathematical value pi = 3.141592653589793\n"
          ]
        }
      ]
    },
    {
      "cell_type": "code",
      "source": [
        "from math import factorial\n",
        "fact_ = factorial(5)\n",
        "print('factorial value will be', fact_)"
      ],
      "metadata": {
        "colab": {
          "base_uri": "https://localhost:8080/"
        },
        "id": "fcCFjD325x8G",
        "outputId": "426c3347-cc41-4093-ae60-d220e6592b00"
      },
      "execution_count": null,
      "outputs": [
        {
          "output_type": "stream",
          "name": "stdout",
          "text": [
            "factorial value will be 120\n"
          ]
        }
      ]
    },
    {
      "cell_type": "code",
      "source": [
        "from math import *\n",
        "print(\"The value of cosh is\", math.cosh(5))"
      ],
      "metadata": {
        "colab": {
          "base_uri": "https://localhost:8080/"
        },
        "id": "j8cTuz_48clA",
        "outputId": "d50f50dc-78c2-444b-ce64-c9ecca775cb0"
      },
      "execution_count": null,
      "outputs": [
        {
          "output_type": "stream",
          "name": "stdout",
          "text": [
            "The value of cosh is 74.20994852478785\n"
          ]
        }
      ]
    },
    {
      "cell_type": "code",
      "source": [
        "#to view all the function or methods in math module\n",
        "import math\n",
        "for method in dir(math):\n",
        "    print(method)"
      ],
      "metadata": {
        "colab": {
          "base_uri": "https://localhost:8080/"
        },
        "id": "fT00-69f7F_6",
        "outputId": "3b1fc8d7-8a5f-4407-ae17-ed16a9ac4fb7"
      },
      "execution_count": null,
      "outputs": [
        {
          "output_type": "stream",
          "name": "stdout",
          "text": [
            "__doc__\n",
            "__loader__\n",
            "__name__\n",
            "__package__\n",
            "__spec__\n",
            "acos\n",
            "acosh\n",
            "asin\n",
            "asinh\n",
            "atan\n",
            "atan2\n",
            "atanh\n",
            "ceil\n",
            "copysign\n",
            "cos\n",
            "cosh\n",
            "degrees\n",
            "e\n",
            "erf\n",
            "erfc\n",
            "exp\n",
            "expm1\n",
            "fabs\n",
            "factorial\n",
            "floor\n",
            "fmod\n",
            "frexp\n",
            "fsum\n",
            "gamma\n",
            "gcd\n",
            "hypot\n",
            "inf\n",
            "isclose\n",
            "isfinite\n",
            "isinf\n",
            "isnan\n",
            "ldexp\n",
            "lgamma\n",
            "log\n",
            "log10\n",
            "log1p\n",
            "log2\n",
            "modf\n",
            "nan\n",
            "pi\n",
            "pow\n",
            "radians\n",
            "remainder\n",
            "sin\n",
            "sinh\n",
            "sqrt\n",
            "tan\n",
            "tanh\n",
            "tau\n",
            "trunc\n"
          ]
        }
      ]
    },
    {
      "cell_type": "code",
      "source": [
        "import sys\n",
        "sys.path"
      ],
      "metadata": {
        "colab": {
          "base_uri": "https://localhost:8080/"
        },
        "id": "uTT1ow5M5-dp",
        "outputId": "936bd6a6-ed83-4673-f01f-a25e682fc96b"
      },
      "execution_count": null,
      "outputs": [
        {
          "output_type": "execute_result",
          "data": {
            "text/plain": [
              "['/content',\n",
              " '/env/python',\n",
              " '/usr/lib/python37.zip',\n",
              " '/usr/lib/python3.7',\n",
              " '/usr/lib/python3.7/lib-dynload',\n",
              " '',\n",
              " '/usr/local/lib/python3.7/dist-packages',\n",
              " '/usr/lib/python3/dist-packages',\n",
              " '/usr/local/lib/python3.7/dist-packages/IPython/extensions',\n",
              " '/root/.ipython']"
            ]
          },
          "metadata": {},
          "execution_count": 28
        }
      ]
    },
    {
      "cell_type": "markdown",
      "source": [
        "#replace()"
      ],
      "metadata": {
        "id": "DLl0Xo2p9VXa"
      }
    },
    {
      "cell_type": "code",
      "source": [
        "words_ = 'cat call'\n",
        "replace_words = words_.replace('c', 'b')\n",
        "print(words_)\n",
        "print(replace_words)"
      ],
      "metadata": {
        "colab": {
          "base_uri": "https://localhost:8080/"
        },
        "id": "TUWLyIH99fFP",
        "outputId": "78d616f6-8579-4bd3-f1a7-28eb04b3898e"
      },
      "execution_count": null,
      "outputs": [
        {
          "output_type": "stream",
          "name": "stdout",
          "text": [
            "cat call\n",
            "bat ball\n"
          ]
        }
      ]
    },
    {
      "cell_type": "code",
      "source": [
        "words1_ =  'come home, its heaven!'\n",
        "replace_words1_ = words1_.replace('home','mall')\n",
        "print(words1_)\n",
        "print(replace_words1_)"
      ],
      "metadata": {
        "colab": {
          "base_uri": "https://localhost:8080/"
        },
        "id": "uQyFecby-IVG",
        "outputId": "204b80f7-d95f-4e38-ad7e-630a908814ed"
      },
      "execution_count": null,
      "outputs": [
        {
          "output_type": "stream",
          "name": "stdout",
          "text": [
            "come home, its heaven!\n",
            "come mall, its heaven!\n"
          ]
        }
      ]
    },
    {
      "cell_type": "code",
      "source": [
        "words2_ =  'say hi!, say hi!, say hi!, say hi!, say hi!,say hi!'\n",
        "replace_words2_ = words2_.replace('hi','bye',2)\n",
        "print(words2_)\n",
        "print(replace_words2_)"
      ],
      "metadata": {
        "colab": {
          "base_uri": "https://localhost:8080/"
        },
        "id": "w-bQEDDp-9JU",
        "outputId": "fba85a53-c16d-4faa-f043-ee11f8ca6ad9"
      },
      "execution_count": null,
      "outputs": [
        {
          "output_type": "stream",
          "name": "stdout",
          "text": [
            "say hi!, say hi!, say hi!, say hi!, say hi!,say hi!\n",
            "say bye!, say bye!, say hi!, say hi!, say hi!,say hi!\n"
          ]
        }
      ]
    },
    {
      "cell_type": "markdown",
      "source": [
        "#Upper()"
      ],
      "metadata": {
        "id": "NUOPmkCyGq7k"
      }
    },
    {
      "cell_type": "code",
      "source": [
        "words3_ = \"python!\"\n",
        "print(words3_.upper())"
      ],
      "metadata": {
        "colab": {
          "base_uri": "https://localhost:8080/"
        },
        "id": "QqX-vU_c_YFI",
        "outputId": "0a56cb51-a204-43bd-c260-f6a92f17c113"
      },
      "execution_count": null,
      "outputs": [
        {
          "output_type": "stream",
          "name": "stdout",
          "text": [
            "PYTHON!\n"
          ]
        }
      ]
    },
    {
      "cell_type": "code",
      "source": [
        "sent1 = 'Hello World!'\n",
        "sent2 = 'HELLO WORLD!'\n",
        "\n",
        "if(sent1.upper()==sent2):\n",
        "  print('both sentence are same!')\n",
        "else:\n",
        "  print('both sentence are not same!')"
      ],
      "metadata": {
        "colab": {
          "base_uri": "https://localhost:8080/"
        },
        "id": "yU737KW4Gzw4",
        "outputId": "e5f08885-1fe9-4bb3-b3c5-7b9b75838ddb"
      },
      "execution_count": null,
      "outputs": [
        {
          "output_type": "stream",
          "name": "stdout",
          "text": [
            "both sentence are same!\n"
          ]
        }
      ]
    },
    {
      "cell_type": "markdown",
      "source": [
        "#Lower()"
      ],
      "metadata": {
        "id": "M5U1EXX7HT26"
      }
    },
    {
      "cell_type": "code",
      "source": [
        "words4_ = 'Hello Python!'\n",
        "print(words4_.lower())"
      ],
      "metadata": {
        "colab": {
          "base_uri": "https://localhost:8080/"
        },
        "id": "_Fij5UPgHPg9",
        "outputId": "73b66923-6373-447b-9ed1-39ab1f9ada41"
      },
      "execution_count": null,
      "outputs": [
        {
          "output_type": "stream",
          "name": "stdout",
          "text": [
            "hello python!\n"
          ]
        }
      ]
    },
    {
      "cell_type": "code",
      "source": [
        "sent3 = 'Hello World!'\n",
        "sent4 = 'HELLO WORLD!'\n",
        "\n",
        "if(sent3.lower()==sent4):\n",
        "  print('both sentence are same!')\n",
        "else:\n",
        "  print('both sentence are not same!')"
      ],
      "metadata": {
        "colab": {
          "base_uri": "https://localhost:8080/"
        },
        "id": "NyUp1kBmHd_g",
        "outputId": "c14a8e1f-bc18-4e8e-ee5e-5c5e5558f3cd"
      },
      "execution_count": null,
      "outputs": [
        {
          "output_type": "stream",
          "name": "stdout",
          "text": [
            "both sentence are not same!\n"
          ]
        }
      ]
    },
    {
      "cell_type": "markdown",
      "source": [
        "#Strip()"
      ],
      "metadata": {
        "id": "jDjc9g27ICcM"
      }
    },
    {
      "cell_type": "code",
      "source": [
        "words5_ = '***Learn Python***'\n",
        "print('Spl Character:',words5_)\n",
        "print('Stripped words:', words5_.strip('*'))"
      ],
      "metadata": {
        "colab": {
          "base_uri": "https://localhost:8080/"
        },
        "id": "p37d3EDpHnrp",
        "outputId": "863182a2-9fb3-4354-e31a-2e95d7df23dd"
      },
      "execution_count": null,
      "outputs": [
        {
          "output_type": "stream",
          "name": "stdout",
          "text": [
            "Spl Character: ***Learn Python***\n",
            "Stripped words: Learn Python\n"
          ]
        }
      ]
    },
    {
      "cell_type": "code",
      "source": [
        "words6_ = 'amazing'\n",
        "print(words6_)\n",
        "print(words6_.strip('am'))"
      ],
      "metadata": {
        "colab": {
          "base_uri": "https://localhost:8080/"
        },
        "id": "w-Mn8w5QIQLV",
        "outputId": "9aecc7b3-9008-4a52-df14-8f82a75bc221"
      },
      "execution_count": null,
      "outputs": [
        {
          "output_type": "stream",
          "name": "stdout",
          "text": [
            "amazing\n",
            "zing\n"
          ]
        }
      ]
    },
    {
      "cell_type": "markdown",
      "source": [
        "#Slice()"
      ],
      "metadata": {
        "id": "TMlT5CvUKkga"
      }
    },
    {
      "cell_type": "code",
      "source": [
        "words7_ = ('P','R','E','M','A','N','A','N','D')\n",
        "slice_ = slice(4)\n",
        "print(words7_[slice_])"
      ],
      "metadata": {
        "colab": {
          "base_uri": "https://localhost:8080/"
        },
        "id": "Z_AA_5-UJC2D",
        "outputId": "5275b7d8-6b24-4862-e998-07ed2390bc09"
      },
      "execution_count": null,
      "outputs": [
        {
          "output_type": "stream",
          "name": "stdout",
          "text": [
            "('P', 'R', 'E', 'M')\n"
          ]
        }
      ]
    },
    {
      "cell_type": "code",
      "source": [
        "slice_ = slice(2,4)\n",
        "print(words7_[slice_])"
      ],
      "metadata": {
        "colab": {
          "base_uri": "https://localhost:8080/"
        },
        "id": "ImSc10CZPkT9",
        "outputId": "8607e114-6ccd-4b07-a33e-b396a5a1d0aa"
      },
      "execution_count": null,
      "outputs": [
        {
          "output_type": "stream",
          "name": "stdout",
          "text": [
            "('E', 'M')\n"
          ]
        }
      ]
    },
    {
      "cell_type": "code",
      "source": [
        "slice_ = slice(1,4,2)\n",
        "print(words7_[slice_])"
      ],
      "metadata": {
        "colab": {
          "base_uri": "https://localhost:8080/"
        },
        "id": "cWeWMuyYQTgJ",
        "outputId": "7214eff4-98d4-4f83-e90e-d3ed5ec3dbf5"
      },
      "execution_count": null,
      "outputs": [
        {
          "output_type": "stream",
          "name": "stdout",
          "text": [
            "('R', 'M')\n"
          ]
        }
      ]
    },
    {
      "cell_type": "markdown",
      "source": [
        "#Max() & Min()"
      ],
      "metadata": {
        "id": "Y0M4jRxdQ4TO"
      }
    },
    {
      "cell_type": "code",
      "source": [
        "num1 = [1,3,555,689, -5654]\n",
        "print(max(num1))\n",
        "print(min(num1))"
      ],
      "metadata": {
        "id": "1nUcb95hQWCb",
        "colab": {
          "base_uri": "https://localhost:8080/"
        },
        "outputId": "de5e8947-ff8b-4f94-d41e-ee1496f87183"
      },
      "execution_count": null,
      "outputs": [
        {
          "output_type": "stream",
          "name": "stdout",
          "text": [
            "689\n",
            "-5654\n"
          ]
        }
      ]
    },
    {
      "cell_type": "code",
      "source": [
        "num2 = max(2,2.3,2.31)\n",
        "print(num2)\n",
        "num2_ = min(2,2.3,2.31)\n",
        "print(num2_)"
      ],
      "metadata": {
        "colab": {
          "base_uri": "https://localhost:8080/"
        },
        "id": "dRc_kflsQsyC",
        "outputId": "ecbf1034-dfa3-4229-eb85-0dbea7d11a03"
      },
      "execution_count": null,
      "outputs": [
        {
          "output_type": "stream",
          "name": "stdout",
          "text": [
            "2.31\n",
            "2\n"
          ]
        }
      ]
    },
    {
      "cell_type": "code",
      "source": [
        "string1 = ['Prem','Anand','Premanand','VIT']\n",
        "print(max(string1))\n",
        "print(min(string1))"
      ],
      "metadata": {
        "colab": {
          "base_uri": "https://localhost:8080/"
        },
        "id": "IkHKyI5fQPNj",
        "outputId": "4e86d8f6-3a92-4c20-9b43-e74f940d6309"
      },
      "execution_count": null,
      "outputs": [
        {
          "output_type": "stream",
          "name": "stdout",
          "text": [
            "VIT\n",
            "Anand\n"
          ]
        }
      ]
    },
    {
      "cell_type": "code",
      "source": [
        "string2 = ['Pass','Passs','Passss']\n",
        "print(max(string2))\n",
        "print(min(string2))"
      ],
      "metadata": {
        "colab": {
          "base_uri": "https://localhost:8080/"
        },
        "id": "hh8GCGPaQ1TA",
        "outputId": "1fb204f2-ed0c-48e3-fdbf-cf0753cf9f1c"
      },
      "execution_count": null,
      "outputs": [
        {
          "output_type": "stream",
          "name": "stdout",
          "text": [
            "Passss\n",
            "Pass\n"
          ]
        }
      ]
    },
    {
      "cell_type": "code",
      "source": [
        "dict1 = {'a':1, 'b':2, 'c':3, 'd':4}\n",
        "#for largest key\n",
        "key_ = max(dict1)\n",
        "print(key_)\n",
        "key1 = min(dict1)\n",
        "print(key1)\n",
        "\n",
        "#for largest value\n",
        "value_=dict1[key_]\n",
        "print(value_)\n",
        "\n",
        "#for smallest value\n",
        "value1 = dict1[key1]\n",
        "print(value1)"
      ],
      "metadata": {
        "colab": {
          "base_uri": "https://localhost:8080/"
        },
        "id": "8WtQ4HRXRGf4",
        "outputId": "acc2ec40-001f-4a0d-8073-b86041aee88c"
      },
      "execution_count": null,
      "outputs": [
        {
          "output_type": "stream",
          "name": "stdout",
          "text": [
            "d\n",
            "a\n",
            "4\n",
            "1\n"
          ]
        }
      ]
    }
  ]
}