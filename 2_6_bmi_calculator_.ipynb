{
  "nbformat": 4,
  "nbformat_minor": 0,
  "metadata": {
    "colab": {
      "provenance": []
    },
    "kernelspec": {
      "name": "python3",
      "display_name": "Python 3"
    },
    "language_info": {
      "name": "python"
    }
  },
  "cells": [
    {
      "cell_type": "code",
      "execution_count": 1,
      "metadata": {
        "colab": {
          "base_uri": "https://localhost:8080/"
        },
        "id": "u1eL1ISCUvyB",
        "outputId": "a2eddb24-1fbd-4b2c-a67e-2ddb6ccbe8b7"
      },
      "outputs": [
        {
          "output_type": "stream",
          "name": "stdout",
          "text": [
            "enter the weight82\n",
            "enter the height1.64\n",
            "30.487804878048784\n"
          ]
        }
      ],
      "source": [
        "n1=float(input(\"enter the weight\"))\n",
        "n2=float(input(\"enter the height\"))\n",
        "bmi=n1/n2**2\n",
        "print(bmi)"
      ]
    }
  ]
}