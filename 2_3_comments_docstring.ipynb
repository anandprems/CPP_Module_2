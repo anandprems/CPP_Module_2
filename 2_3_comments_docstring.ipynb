{
  "cells": [
    {
      "cell_type": "markdown",
      "source": [
        "#Comments"
      ],
      "metadata": {
        "id": "JtpUrs3Z0RzG"
      },
      "id": "JtpUrs3Z0RzG"
    },
    {
      "cell_type": "code",
      "execution_count": null,
      "id": "6353d40a",
      "metadata": {
        "id": "6353d40a",
        "outputId": "0590b35c-5376-4288-ffe5-52ca9016376a"
      },
      "outputs": [
        {
          "name": "stdout",
          "output_type": "stream",
          "text": [
            "hello world!\n"
          ]
        }
      ],
      "source": [
        "#print the statement\n",
        "print(\"hello world!\")"
      ]
    },
    {
      "cell_type": "code",
      "execution_count": null,
      "id": "67836c63",
      "metadata": {
        "id": "67836c63"
      },
      "outputs": [],
      "source": [
        "#assigning variable values\n",
        "a = 10\n",
        "b = 15\n",
        "#addition of two numbers\n",
        "c = a+b"
      ]
    },
    {
      "cell_type": "code",
      "execution_count": null,
      "id": "eff65029",
      "metadata": {
        "id": "eff65029",
        "outputId": "16ae0d6c-100e-4b39-af2e-8f7923a1d0c3"
      },
      "outputs": [
        {
          "name": "stdout",
          "output_type": "stream",
          "text": [
            "25\n"
          ]
        }
      ],
      "source": [
        "#printing the output\n",
        "print(c)"
      ]
    },
    {
      "cell_type": "code",
      "execution_count": null,
      "id": "663a0919",
      "metadata": {
        "id": "663a0919",
        "outputId": "9ffdd600-eb94-4ab0-ad1c-6a6a7e588981"
      },
      "outputs": [
        {
          "name": "stdout",
          "output_type": "stream",
          "text": [
            "addition output: 15\n",
            "multiplication output: 80\n"
          ]
        }
      ],
      "source": [
        "#here we doing more calculation\n",
        "#first we need to assign variables with\n",
        "#values for three varaibles namely\n",
        "#a, b, c\n",
        "a = 2\n",
        "b = 5\n",
        "c = 8\n",
        "#addition of variables\n",
        "d = a+ b+ c\n",
        "#multiplication of variables\n",
        "e = a*b*c\n",
        "#printing addition output\n",
        "print('addition output:', d)\n",
        "#printing multiplication output\n",
        "print('multiplication output:',e)"
      ]
    },
    {
      "cell_type": "markdown",
      "source": [
        "#Docstring"
      ],
      "metadata": {
        "id": "79K1HoqA0yPV"
      },
      "id": "79K1HoqA0yPV"
    },
    {
      "cell_type": "code",
      "execution_count": 2,
      "id": "7eff5799",
      "metadata": {
        "id": "7eff5799",
        "colab": {
          "base_uri": "https://localhost:8080/"
        },
        "outputId": "a1feacc8-273c-400c-ee01-24baec896c4d"
      },
      "outputs": [
        {
          "output_type": "stream",
          "name": "stdout",
          "text": [
            "Takes in a number n, returns the square of n\n"
          ]
        }
      ],
      "source": [
        "def square(n):\n",
        "    '''Takes in a number n, returns the square of n'''\n",
        "    return n**2\n",
        "\n",
        "print(square.__doc__)"
      ]
    },
    {
      "cell_type": "code",
      "source": [
        "print(print.__doc__)"
      ],
      "metadata": {
        "colab": {
          "base_uri": "https://localhost:8080/"
        },
        "id": "A74ZLGZA02ED",
        "outputId": "cbc0162c-f3c3-4ded-dd5a-33af309c7975"
      },
      "id": "A74ZLGZA02ED",
      "execution_count": 3,
      "outputs": [
        {
          "output_type": "stream",
          "name": "stdout",
          "text": [
            "print(value, ..., sep=' ', end='\\n', file=sys.stdout, flush=False)\n",
            "\n",
            "Prints the values to a stream, or to sys.stdout by default.\n",
            "Optional keyword arguments:\n",
            "file:  a file-like object (stream); defaults to the current sys.stdout.\n",
            "sep:   string inserted between values, default a space.\n",
            "end:   string appended after the last value, default a newline.\n",
            "flush: whether to forcibly flush the stream.\n"
          ]
        }
      ]
    },
    {
      "cell_type": "code",
      "source": [
        "def multiplier(a, b):\n",
        "    \"\"\"Takes in two numbers, returns their product.\"\"\"\n",
        "    return a*b\n",
        "\n",
        "print(multiplier.__doc__)"
      ],
      "metadata": {
        "colab": {
          "base_uri": "https://localhost:8080/"
        },
        "id": "LJkS245U1CiT",
        "outputId": "1abae104-da74-4b7a-ce59-72354aff4d0d"
      },
      "id": "LJkS245U1CiT",
      "execution_count": 4,
      "outputs": [
        {
          "output_type": "stream",
          "name": "stdout",
          "text": [
            "Takes in two numbers, returns their product.\n"
          ]
        }
      ]
    },
    {
      "cell_type": "code",
      "source": [
        "import numpy\n",
        "print(numpy.__doc__)"
      ],
      "metadata": {
        "colab": {
          "base_uri": "https://localhost:8080/"
        },
        "id": "Gb2LElik1NJU",
        "outputId": "28f63bbd-a0ee-45ce-aee4-421ee8d07ea0"
      },
      "id": "Gb2LElik1NJU",
      "execution_count": 5,
      "outputs": [
        {
          "output_type": "stream",
          "name": "stdout",
          "text": [
            "\n",
            "NumPy\n",
            "=====\n",
            "\n",
            "Provides\n",
            "  1. An array object of arbitrary homogeneous items\n",
            "  2. Fast mathematical operations over arrays\n",
            "  3. Linear Algebra, Fourier Transforms, Random Number Generation\n",
            "\n",
            "How to use the documentation\n",
            "----------------------------\n",
            "Documentation is available in two forms: docstrings provided\n",
            "with the code, and a loose standing reference guide, available from\n",
            "`the NumPy homepage <https://www.scipy.org>`_.\n",
            "\n",
            "We recommend exploring the docstrings using\n",
            "`IPython <https://ipython.org>`_, an advanced Python shell with\n",
            "TAB-completion and introspection capabilities.  See below for further\n",
            "instructions.\n",
            "\n",
            "The docstring examples assume that `numpy` has been imported as `np`::\n",
            "\n",
            "  >>> import numpy as np\n",
            "\n",
            "Code snippets are indicated by three greater-than signs::\n",
            "\n",
            "  >>> x = 42\n",
            "  >>> x = x + 1\n",
            "\n",
            "Use the built-in ``help`` function to view a function's docstring::\n",
            "\n",
            "  >>> help(np.sort)\n",
            "  ... # doctest: +SKIP\n",
            "\n",
            "For some objects, ``np.info(obj)`` may provide additional help.  This is\n",
            "particularly true if you see the line \"Help on ufunc object:\" at the top\n",
            "of the help() page.  Ufuncs are implemented in C, not Python, for speed.\n",
            "The native Python help() does not know how to view their help, but our\n",
            "np.info() function does.\n",
            "\n",
            "To search for documents containing a keyword, do::\n",
            "\n",
            "  >>> np.lookfor('keyword')\n",
            "  ... # doctest: +SKIP\n",
            "\n",
            "General-purpose documents like a glossary and help on the basic concepts\n",
            "of numpy are available under the ``doc`` sub-module::\n",
            "\n",
            "  >>> from numpy import doc\n",
            "  >>> help(doc)\n",
            "  ... # doctest: +SKIP\n",
            "\n",
            "Available subpackages\n",
            "---------------------\n",
            "doc\n",
            "    Topical documentation on broadcasting, indexing, etc.\n",
            "lib\n",
            "    Basic functions used by several sub-packages.\n",
            "random\n",
            "    Core Random Tools\n",
            "linalg\n",
            "    Core Linear Algebra Tools\n",
            "fft\n",
            "    Core FFT routines\n",
            "polynomial\n",
            "    Polynomial tools\n",
            "testing\n",
            "    NumPy testing tools\n",
            "f2py\n",
            "    Fortran to Python Interface Generator.\n",
            "distutils\n",
            "    Enhancements to distutils with support for\n",
            "    Fortran compilers support and more.\n",
            "\n",
            "Utilities\n",
            "---------\n",
            "test\n",
            "    Run numpy unittests\n",
            "show_config\n",
            "    Show numpy build configuration\n",
            "dual\n",
            "    Overwrite certain functions with high-performance SciPy tools.\n",
            "    Note: `numpy.dual` is deprecated.  Use the functions from NumPy or Scipy\n",
            "    directly instead of importing them from `numpy.dual`.\n",
            "matlib\n",
            "    Make everything matrices.\n",
            "__version__\n",
            "    NumPy version string\n",
            "\n",
            "Viewing documentation using IPython\n",
            "-----------------------------------\n",
            "Start IPython with the NumPy profile (``ipython -p numpy``), which will\n",
            "import `numpy` under the alias `np`.  Then, use the ``cpaste`` command to\n",
            "paste examples into the shell.  To see which functions are available in\n",
            "`numpy`, type ``np.<TAB>`` (where ``<TAB>`` refers to the TAB key), or use\n",
            "``np.*cos*?<ENTER>`` (where ``<ENTER>`` refers to the ENTER key) to narrow\n",
            "down the list.  To view the docstring for a function, use\n",
            "``np.cos?<ENTER>`` (to view the docstring) and ``np.cos??<ENTER>`` (to view\n",
            "the source code).\n",
            "\n",
            "Copies vs. in-place operation\n",
            "-----------------------------\n",
            "Most of the functions in `numpy` return a copy of the array argument\n",
            "(e.g., `np.sort`).  In-place versions of these functions are often\n",
            "available as array methods, i.e. ``x = np.array([1,2,3]); x.sort()``.\n",
            "Exceptions to this rule are documented.\n",
            "\n",
            "\n"
          ]
        }
      ]
    },
    {
      "cell_type": "code",
      "source": [
        "def add_binary(a, b):\n",
        "    '''\n",
        "    Returns the sum of two decimal numbers in binary digits.\n",
        "\n",
        "            Parameters:\n",
        "                    a (int): A decimal integer\n",
        "                    b (int): Another decimal integer\n",
        "\n",
        "            Returns:\n",
        "                    binary_sum (str): Binary string of the sum of a and b\n",
        "    '''\n",
        "    binary_sum = bin(a+b)[2:]\n",
        "    return binary_sum\n",
        "\n",
        "\n",
        "print(add_binary.__doc__)"
      ],
      "metadata": {
        "colab": {
          "base_uri": "https://localhost:8080/"
        },
        "id": "4LaWScpa1Tt1",
        "outputId": "24edb44a-7982-41fa-b94d-12d585ca04aa"
      },
      "id": "4LaWScpa1Tt1",
      "execution_count": 6,
      "outputs": [
        {
          "output_type": "stream",
          "name": "stdout",
          "text": [
            "\n",
            "    Returns the sum of two decimal numbers in binary digits.\n",
            "\n",
            "            Parameters:\n",
            "                    a (int): A decimal integer\n",
            "                    b (int): Another decimal integer\n",
            "\n",
            "            Returns:\n",
            "                    binary_sum (str): Binary string of the sum of a and b\n",
            "    \n"
          ]
        }
      ]
    },
    {
      "cell_type": "code",
      "source": [],
      "metadata": {
        "id": "LX2ECT7S1gJf"
      },
      "id": "LX2ECT7S1gJf",
      "execution_count": null,
      "outputs": []
    }
  ],
  "metadata": {
    "kernelspec": {
      "display_name": "Python 3 (ipykernel)",
      "language": "python",
      "name": "python3"
    },
    "language_info": {
      "codemirror_mode": {
        "name": "ipython",
        "version": 3
      },
      "file_extension": ".py",
      "mimetype": "text/x-python",
      "name": "python",
      "nbconvert_exporter": "python",
      "pygments_lexer": "ipython3",
      "version": "3.9.7"
    },
    "colab": {
      "provenance": []
    }
  },
  "nbformat": 4,
  "nbformat_minor": 5
}